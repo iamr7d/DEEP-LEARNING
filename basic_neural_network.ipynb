{
  "nbformat": 4,
  "nbformat_minor": 0,
  "metadata": {
    "colab": {
      "provenance": []
    },
    "kernelspec": {
      "name": "python3",
      "display_name": "Python 3"
    },
    "language_info": {
      "name": "python"
    }
  },
  "cells": [
    {
      "cell_type": "markdown",
      "source": [
        "## **Step 1: Import Libraries**"
      ],
      "metadata": {
        "id": "djfXruFd_Qxb"
      }
    },
    {
      "cell_type": "markdown",
      "source": [
        "> tensorflow is a popular library for building and training deep learning models.\n",
        "* layers and models are modules from tf.keras, TensorFlow's high-level API for building and training models easily.\n",
        "* numpy is a library for numerical operations, commonly used in machine learning."
      ],
      "metadata": {
        "id": "jYHRnaWN_Ufj"
      }
    },
    {
      "cell_type": "code",
      "execution_count": null,
      "metadata": {
        "id": "bX2iP2Wt-ite"
      },
      "outputs": [],
      "source": [
        "import tensorflow as tf\n",
        "from tensorflow.keras import layers, models\n",
        "import numpy as np"
      ]
    },
    {
      "cell_type": "markdown",
      "source": [
        "# **Step 2: Load the Dataset**"
      ],
      "metadata": {
        "id": "74GoK-rA_flL"
      }
    },
    {
      "cell_type": "markdown",
      "source": [
        "> The MNIST dataset is divided into a training set (60,000 images) and a test set (10,000 images).\n",
        "* x_train and x_test contain the images, while y_train and y_test contain the corresponding labels (0–9)."
      ],
      "metadata": {
        "id": "bTzc6pxGAMPg"
      }
    },
    {
      "cell_type": "code",
      "source": [
        "(x_train,y_train), (x_test,y_test) = tf.keras.datasets.mnist.load_data()"
      ],
      "metadata": {
        "id": "G3667lf4_mvM"
      },
      "execution_count": null,
      "outputs": []
    },
    {
      "cell_type": "markdown",
      "source": [
        "# **Step 3: Preprocess the Data**"
      ],
      "metadata": {
        "id": "hd8lH05cAU64"
      }
    },
    {
      "cell_type": "markdown",
      "source": [
        "> Neural networks perform better when the input data is scaled.\n",
        "* Here, we normalize pixel values (from 0–255) to the range 0–1 by dividing by 255.0.\n",
        "* This improves the convergence of the training process by standardizing input values."
      ],
      "metadata": {
        "id": "Y1CCkMHMAoAq"
      }
    },
    {
      "cell_type": "code",
      "source": [
        "x_train, x_test = x_train/255.0 , x_test/255.0"
      ],
      "metadata": {
        "id": "dJFwjldsAWAR"
      },
      "execution_count": null,
      "outputs": []
    },
    {
      "cell_type": "markdown",
      "source": [
        "# **Step 4: Define the Model**"
      ],
      "metadata": {
        "id": "JGbLa29eA3W8"
      }
    },
    {
      "cell_type": "markdown",
      "source": [
        "> We create a Sequential model, which allows us to stack layers linearly (one after another).\n",
        "* Flatten layer: This layer reshapes each 28x28 image into a 784-element vector (28 × 28 = 784), so it can be fed into the dense layers.\n",
        "* First Dense layer: This fully connected (dense) layer has 128 neurons and uses the ReLU activation function. ReLU (Rectified Linear Unit) introduces non-linearity, allowing the network to learn more complex patterns.\n",
        "* Output Dense layer: The output layer has 10 neurons (one for each digit, 0–9) and uses the softmax activation function. Softmax converts the outputs into probabilities that sum to 1, indicating the model’s confidence in each class."
      ],
      "metadata": {
        "id": "kTu4jiIgA40c"
      }
    },
    {
      "cell_type": "code",
      "source": [
        "model = models.Sequential([\n",
        "    layers.Flatten(input_shape=(28, 28)),  # Flatten 2D images to 1D\n",
        "    layers.Dense(128, activation='relu'),  # Hidden layer with ReLU activation\n",
        "    layers.Dense(10, activation='softmax')  # Output layer with softmax for classification\n",
        "])"
      ],
      "metadata": {
        "id": "a1xQiBahA4ck"
      },
      "execution_count": null,
      "outputs": []
    },
    {
      "cell_type": "markdown",
      "source": [
        "# **Step 5: Compile the model**"
      ],
      "metadata": {
        "id": "LwrgEfi9DiLJ"
      }
    },
    {
      "cell_type": "markdown",
      "source": [
        "###  *Compiling a model is the step that configures it for training by defining key components: the optimizer, loss function, and metrics.*"
      ],
      "metadata": {
        "id": "XK_U6nqoKsTs"
      }
    },
    {
      "cell_type": "markdown",
      "source": [
        "> **Compilation:** Before training, we compile the model to specify the optimization method, loss function, and evaluation metric.\n",
        "\n",
        "* Optimizer: adam (Adaptive Moment Estimation) is an optimization algorithm that adjusts the learning rate during training based on the rate of change of weights, improving convergence speed.\n",
        "\n",
        "* Loss Function: sparse_categorical_crossentropy is used for multi-class classification when labels are provided as integers rather than one-hot encoded arrays.\n",
        "\n",
        "* Metric: accuracy is used to measure the model’s accuracy during training and evaluation."
      ],
      "metadata": {
        "id": "XHS0mqNODoLJ"
      }
    },
    {
      "cell_type": "code",
      "source": [
        "model.compile(optimizer='adam',\n",
        "              loss='sparse_categorical_crossentropy',\n",
        "              metrics=['accuracy'])"
      ],
      "metadata": {
        "id": "dlGOruSRDh_Z"
      },
      "execution_count": null,
      "outputs": []
    },
    {
      "cell_type": "markdown",
      "source": [
        "# **Step 6: Train the model**"
      ],
      "metadata": {
        "id": "G2-dLBY3LdHg"
      }
    },
    {
      "cell_type": "markdown",
      "source": [
        "> This command initiates the training process, where the ***model learns from the data by adjusting weights to minimize the loss.***\n",
        "\n",
        "* x_train and y_train are the input data and labels.\n",
        "\n",
        "* epochs=5: This parameter specifies that the entire dataset will be passed through the model 5 times."
      ],
      "metadata": {
        "id": "3YGM2cOPLejQ"
      }
    },
    {
      "cell_type": "code",
      "source": [
        "model.fit(x_train, y_train, epochs=5)"
      ],
      "metadata": {
        "colab": {
          "base_uri": "https://localhost:8080/"
        },
        "id": "meEAGGsaLqlZ",
        "outputId": "6ff47356-68ef-45d0-f54c-bd2e6f9a8d77"
      },
      "execution_count": null,
      "outputs": [
        {
          "output_type": "stream",
          "name": "stdout",
          "text": [
            "Epoch 1/5\n",
            "\u001b[1m1875/1875\u001b[0m \u001b[32m━━━━━━━━━━━━━━━━━━━━\u001b[0m\u001b[37m\u001b[0m \u001b[1m8s\u001b[0m 4ms/step - accuracy: 0.8810 - loss: 0.4271\n",
            "Epoch 2/5\n",
            "\u001b[1m1875/1875\u001b[0m \u001b[32m━━━━━━━━━━━━━━━━━━━━\u001b[0m\u001b[37m\u001b[0m \u001b[1m5s\u001b[0m 3ms/step - accuracy: 0.9658 - loss: 0.1172\n",
            "Epoch 3/5\n",
            "\u001b[1m1875/1875\u001b[0m \u001b[32m━━━━━━━━━━━━━━━━━━━━\u001b[0m\u001b[37m\u001b[0m \u001b[1m7s\u001b[0m 4ms/step - accuracy: 0.9781 - loss: 0.0748\n",
            "Epoch 4/5\n",
            "\u001b[1m1875/1875\u001b[0m \u001b[32m━━━━━━━━━━━━━━━━━━━━\u001b[0m\u001b[37m\u001b[0m \u001b[1m8s\u001b[0m 3ms/step - accuracy: 0.9835 - loss: 0.0568\n",
            "Epoch 5/5\n",
            "\u001b[1m1875/1875\u001b[0m \u001b[32m━━━━━━━━━━━━━━━━━━━━\u001b[0m\u001b[37m\u001b[0m \u001b[1m7s\u001b[0m 4ms/step - accuracy: 0.9872 - loss: 0.0434\n"
          ]
        },
        {
          "output_type": "execute_result",
          "data": {
            "text/plain": [
              "<keras.src.callbacks.history.History at 0x7cbbab532ef0>"
            ]
          },
          "metadata": {},
          "execution_count": 27
        }
      ]
    },
    {
      "cell_type": "markdown",
      "source": [
        "# **Step 7: Evaluate the model**"
      ],
      "metadata": {
        "id": "QU3DcOEULyKi"
      }
    },
    {
      "cell_type": "markdown",
      "source": [
        "This step tests the model’s performance on data it has never seen before (the test data) to get an unbiased estimate of its accuracy.\n",
        "\n",
        "* x_test and y_test are the input data and labels for the test set.\n",
        "* verbose=2: Controls the output display level. Setting it to 2 shows a single line per epoch with test results.\n",
        "* test_loss and test_acc store the model's performance metrics on the test set."
      ],
      "metadata": {
        "id": "dlLVHfaKLzaz"
      }
    },
    {
      "cell_type": "code",
      "source": [
        "test_loss, test_acc = model.evaluate(x_test, y_test, verbose=2)"
      ],
      "metadata": {
        "colab": {
          "base_uri": "https://localhost:8080/"
        },
        "id": "xsi4b8KRMLEd",
        "outputId": "8f823b0d-5ddb-42f9-b448-a16b9204c9c4"
      },
      "execution_count": null,
      "outputs": [
        {
          "output_type": "stream",
          "name": "stdout",
          "text": [
            "313/313 - 0s - 1ms/step - accuracy: 0.9770 - loss: 0.0781\n"
          ]
        }
      ]
    },
    {
      "cell_type": "code",
      "source": [
        "print('\\nTest accuracy:', test_acc)"
      ],
      "metadata": {
        "colab": {
          "base_uri": "https://localhost:8080/"
        },
        "id": "zaofvBq4L75D",
        "outputId": "85dca30f-9aa5-4695-adff-faa13a0d5a4a"
      },
      "execution_count": null,
      "outputs": [
        {
          "output_type": "stream",
          "name": "stdout",
          "text": [
            "\n",
            "Test accuracy: 0.9769999980926514\n"
          ]
        }
      ]
    }
  ]
}