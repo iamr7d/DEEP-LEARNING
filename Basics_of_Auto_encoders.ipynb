{
  "nbformat": 4,
  "nbformat_minor": 0,
  "metadata": {
    "colab": {
      "provenance": [],
      "name": "Basics of Auto encoders.ipynb",
      "authorship_tag": "ABX9TyPCzx8oPJfFPX3/2Gm65fZs",
      "include_colab_link": true
    },
    "kernelspec": {
      "name": "python3",
      "display_name": "Python 3"
    },
    "language_info": {
      "name": "python"
    }
  },
  "cells": [
    {
      "cell_type": "markdown",
      "metadata": {
        "id": "view-in-github",
        "colab_type": "text"
      },
      "source": [
        "<a href=\"https://colab.research.google.com/github/iamr7d/Deep-Learning/blob/main/Basics_of_Auto_encoders.ipynb\" target=\"_parent\"><img src=\"https://colab.research.google.com/assets/colab-badge.svg\" alt=\"Open In Colab\"/></a>"
      ]
    },
    {
      "cell_type": "code",
      "source": [
        "from tensorflow.keras import datasets\n",
        "import numpy as np\n",
        "(x_train , y_train),(x_test,y_test) = datasets.fashion_mnist.load_data()"
      ],
      "metadata": {
        "id": "-AEIfjRemjDY"
      },
      "execution_count": 1,
      "outputs": []
    },
    {
      "cell_type": "markdown",
      "source": [
        "This line loads the Fashion MNIST dataset, which contains grayscale images of 10 different classes of clothing items (e.g., T-shirts, shoes, bags). Each image is\n",
        "28\n",
        "×\n",
        "28\n",
        "28×28 pixels."
      ],
      "metadata": {
        "id": "NFEiejWioofW"
      }
    },
    {
      "cell_type": "code",
      "source": [
        "def preprocess(imgs):\n",
        "  imgs = imgs.astype('float32')/255.0\n",
        "  imgs = np.pad(imgs,((0,0),(2,2),(2,2)),constant_values =0.0)\n",
        "  imgs = np.expand_dims(imgs,-1) #\n",
        "  return imgs"
      ],
      "metadata": {
        "id": "DLhtVQCom80y"
      },
      "execution_count": 5,
      "outputs": []
    },
    {
      "cell_type": "markdown",
      "source": [
        "* The line **imgs = imgs.astype('float32') / 255.0** converts pixel values, which range from 0 to 255, to a floating-point range between 0 and 1. This normalization helps the model learn more efficiently by ensuring pixel values are within a consistent range."
      ],
      "metadata": {
        "id": "8CSuz_aKo1dv"
      }
    },
    {
      "cell_type": "markdown",
      "source": [
        "* Padding the images: This line pads each\n",
        "28\n",
        "×\n",
        "28\n",
        "28×28 image to a\n",
        "32\n",
        "×\n",
        "32\n",
        "32×32 image by adding a 2-pixel border of zeros around each side. Padding is useful here for a few reasons:\n",
        "\n",
        "* It makes the images compatible with standard models or architectures, which often work better with\n",
        "32\n",
        "×\n",
        "32\n",
        "32×32 images.\n",
        "Padding helps the model retain the original image’s features while extending the input size slightly.\n",
        "* The argument ((0, 0), (2, 2), (2, 2)) means:\n",
        "\n",
        "> (0, 0): No padding on the first dimension, which represents the number of images in the dataset.\n",
        "\n",
        "> (2, 2): Add 2 pixels of padding to both the top and bottom in the height dimension.\n",
        "\n",
        "> (2, 2): Add 2 pixels of padding to both sides in the width dimension.\n",
        "\n",
        "> Setting constant values: constant_values=0.0 pads with zeros (black pixels), which maintains consistency for the padded border."
      ],
      "metadata": {
        "id": "gy1Bf4DipJho"
      }
    },
    {
      "cell_type": "markdown",
      "source": [
        "> Adding a channel dimension: This step reshapes the data to include a channel dimension, converting each\n",
        "32\n",
        "×\n",
        "32\n",
        "32×32 image to a shape of\n",
        "32\n",
        "×\n",
        "32\n",
        "×\n",
        "1\n",
        "32×32×1, where 1 represents the grayscale channel."
      ],
      "metadata": {
        "id": "N3wuO3Yyq7ai"
      }
    },
    {
      "cell_type": "code",
      "source": [
        "x_train = preprocess(x_train)\n",
        "x_test = preprocess(x_test)"
      ],
      "metadata": {
        "id": "7sjsPf6Vo2CG"
      },
      "execution_count": 6,
      "outputs": []
    }
  ]
}